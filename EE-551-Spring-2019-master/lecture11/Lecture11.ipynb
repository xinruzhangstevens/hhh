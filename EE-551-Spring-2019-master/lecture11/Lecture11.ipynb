{
 "cells": [
  {
   "cell_type": "markdown",
   "metadata": {},
   "source": [
    "# Linked Lists"
   ]
  },
  {
   "cell_type": "markdown",
   "metadata": {},
   "source": [
    "Linked lists are made up pf **nodes**, where each node contains a reference to the next node in the list."
   ]
  },
  {
   "cell_type": "markdown",
   "metadata": {},
   "source": [
    "In addition, each node contains a unit of data."
   ]
  },
  {
   "cell_type": "markdown",
   "metadata": {},
   "source": [
    "### Create a node class that autimatically initializes its own data and next and prints the value of data. The defaults values are None."
   ]
  },
  {
   "cell_type": "code",
   "execution_count": 66,
   "metadata": {},
   "outputs": [],
   "source": [
    "class Node(object):\n",
    "    def __init__(self,data=None,next_code=None):\n",
    "        self.data=data\n",
    "        self.next = next_code\n",
    "    def __str__(self):\n",
    "        return str(self.data)\n",
    "    \n",
    "    "
   ]
  },
  {
   "cell_type": "code",
   "execution_count": 67,
   "metadata": {},
   "outputs": [
    {
     "name": "stdout",
     "output_type": "stream",
     "text": [
      "test\n"
     ]
    }
   ],
   "source": [
    "node =Node('test')\n",
    "print(node)"
   ]
  },
  {
   "cell_type": "code",
   "execution_count": 68,
   "metadata": {},
   "outputs": [],
   "source": [
    "node1 = Node(1)\n",
    "node2 = Node(2)\n",
    "node3 = Node(3)"
   ]
  },
  {
   "cell_type": "code",
   "execution_count": 69,
   "metadata": {},
   "outputs": [],
   "source": [
    "node1.next = node2\n",
    "node2.next = node3"
   ]
  },
  {
   "cell_type": "markdown",
   "metadata": {},
   "source": [
    "### Create instances node1, node2 and node3 from Node class with data 1, 2, 3, repectively."
   ]
  },
  {
   "cell_type": "markdown",
   "metadata": {},
   "source": [
    "![alt text](../figures/linked_list_nodes.png)"
   ]
  },
  {
   "cell_type": "markdown",
   "metadata": {},
   "source": [
    "### Now link the nodes such that node1 -> node2 -> node3."
   ]
  },
  {
   "cell_type": "markdown",
   "metadata": {},
   "source": [
    "The reference of the third node is None, which indicates that it is the end of the list."
   ]
  },
  {
   "cell_type": "markdown",
   "metadata": {},
   "source": [
    "![alt text](../figures/linked_list.png)"
   ]
  },
  {
   "cell_type": "markdown",
   "metadata": {},
   "source": [
    "### Write a function printList that takes the head of the list as an argument and prints each node until it gets to the end."
   ]
  },
  {
   "cell_type": "code",
   "execution_count": 70,
   "metadata": {},
   "outputs": [],
   "source": [
    "def printList(head):\n",
    "    while head is not None:\n",
    "        print(head)\n",
    "        head = head.next"
   ]
  },
  {
   "cell_type": "code",
   "execution_count": 71,
   "metadata": {},
   "outputs": [
    {
     "name": "stdout",
     "output_type": "stream",
     "text": [
      "1\n",
      "2\n",
      "3\n"
     ]
    }
   ],
   "source": [
    "printList(node1)"
   ]
  },
  {
   "cell_type": "markdown",
   "metadata": {},
   "source": [
    "### Write a function ``printBackward`` that prints the list backward, i.e. starting from tail."
   ]
  },
  {
   "cell_type": "code",
   "execution_count": 72,
   "metadata": {},
   "outputs": [],
   "source": [
    "def printBackward(head):\n",
    "    if not head: return\n",
    "    tail =head.next\n",
    "    printBackward(tail)\n",
    "    print(head)"
   ]
  },
  {
   "cell_type": "code",
   "execution_count": 73,
   "metadata": {},
   "outputs": [
    {
     "name": "stdout",
     "output_type": "stream",
     "text": [
      "3\n",
      "2\n",
      "1\n"
     ]
    }
   ],
   "source": [
    "printBackward(node1)"
   ]
  },
  {
   "cell_type": "markdown",
   "metadata": {},
   "source": [
    "### Will these functions work for infinite lists? "
   ]
  },
  {
   "cell_type": "markdown",
   "metadata": {},
   "source": [
    "![alt text](../figures/infinite_lists.png)"
   ]
  },
  {
   "cell_type": "markdown",
   "metadata": {},
   "source": [
    "### Write a function ``removeSecond`` that removes the second node in the list and returns a reference to the removed node."
   ]
  },
  {
   "cell_type": "code",
   "execution_count": 74,
   "metadata": {},
   "outputs": [],
   "source": [
    "def removeSecond(head):\n",
    "    if not head: return\n",
    "    second = head.next\n",
    "    head.next = second.next\n",
    "    second.next = None\n",
    "    return second"
   ]
  },
  {
   "cell_type": "code",
   "execution_count": 75,
   "metadata": {},
   "outputs": [
    {
     "name": "stdout",
     "output_type": "stream",
     "text": [
      "Linked list before modification\n",
      "1\n",
      "2\n",
      "3\n",
      "Removeing second node\n",
      "Linked list after modification\n",
      "1\n",
      "3\n",
      "Remove list is ?\n",
      "2\n"
     ]
    }
   ],
   "source": [
    "print('Linked list before modification')\n",
    "printList(node1)\n",
    "print('Removeing second node')\n",
    "second = removeSecond(node1)\n",
    "print('Linked list after modification')\n",
    "printList(node1)\n",
    "print('Remove list is ?')\n",
    "printList(second)"
   ]
  },
  {
   "cell_type": "markdown",
   "metadata": {},
   "source": [
    "![alt text](../figures/remove_second_node.png)"
   ]
  },
  {
   "cell_type": "markdown",
   "metadata": {},
   "source": [
    "### Write a function ``printBackwardNicely`` that prints a list in the format ``[3, 2, 1]``."
   ]
  },
  {
   "cell_type": "code",
   "execution_count": 79,
   "metadata": {},
   "outputs": [],
   "source": [
    "def printBackwardNicely(head):\n",
    "    print('[',end = '  ')\n",
    "    printBackward(head)\n",
    "    print(']',end = '  ')\n",
    "    "
   ]
  },
  {
   "cell_type": "code",
   "execution_count": 80,
   "metadata": {},
   "outputs": [
    {
     "name": "stdout",
     "output_type": "stream",
     "text": [
      "[  3\n",
      "1\n",
      "]  "
     ]
    }
   ],
   "source": [
    "printBackwardNicely(node1)"
   ]
  },
  {
   "cell_type": "markdown",
   "metadata": {},
   "source": [
    "### Create a ``LinkedList`` class whose attributes are `` length`` of the linked list and a reference to the first node."
   ]
  },
  {
   "cell_type": "code",
   "execution_count": null,
   "metadata": {},
   "outputs": [],
   "source": [
    "class LinkedList(object):\n",
    "    def __init__(self):\n",
    "        self.length = 0\n",
    "        self.head = None\n",
    "\n",
    "        "
   ]
  },
  {
   "cell_type": "markdown",
   "metadata": {},
   "source": [
    "### Make ``printBackward`` a method of ``Node`` class."
   ]
  },
  {
   "cell_type": "code",
   "execution_count": 86,
   "metadata": {},
   "outputs": [],
   "source": [
    "class Node(object):\n",
    "    def __init__(self,data=None,next_code=None):\n",
    "        self.data=data\n",
    "        self.next = next_code\n",
    "    def __str__(self):\n",
    "        return str(self.data)\n",
    "    def printBackward(self):\n",
    "        if self.next !=None:\n",
    "            tail = self.next\n",
    "            tail.printBackward()\n",
    "        print(self.data,end='  ')\n",
    "        "
   ]
  },
  {
   "cell_type": "code",
   "execution_count": 87,
   "metadata": {},
   "outputs": [
    {
     "name": "stdout",
     "output_type": "stream",
     "text": [
      "3  2  1  "
     ]
    }
   ],
   "source": [
    "node1,node2,node3 = Node(1),Node(2),Node(3)\n",
    "node1.next=node2\n",
    "node2.next=node3\n",
    "node1.printBackward()"
   ]
  },
  {
   "cell_type": "markdown",
   "metadata": {},
   "source": [
    "### Define a method ``printBackward`` of ``LinkedList`` class that adds brackets around the values"
   ]
  },
  {
   "cell_type": "code",
   "execution_count": 100,
   "metadata": {},
   "outputs": [],
   "source": [
    "class LinkedList(object):\n",
    "        def __init__(self):\n",
    "            self.length = 0\n",
    "            self.head = None\n",
    "        def printBackward(self):\n",
    "            print('[',end = '  ')\n",
    "            self.head.printBackward()\n",
    "            print(']',end = '  ')\n",
    "        def addFirst(self, value):\n",
    "            node = Node(value)\n",
    "            node.next = self.head\n",
    "            self.head = node\n",
    "            self.length +=1"
   ]
  },
  {
   "cell_type": "code",
   "execution_count": 101,
   "metadata": {},
   "outputs": [
    {
     "name": "stdout",
     "output_type": "stream",
     "text": [
      "[  3  2  1  ]  "
     ]
    }
   ],
   "source": [
    "linked_list = LinkedList()\n",
    "linked_list.head = node1\n",
    "\n",
    "\n"
   ]
  },
  {
   "cell_type": "markdown",
   "metadata": {},
   "source": [
    "### Define a method ``addFirst`` that takes value of a data as an argument and puts it at the beginning of the list"
   ]
  },
  {
   "cell_type": "code",
   "execution_count": 102,
   "metadata": {},
   "outputs": [],
   "source": [
    "class LinkedList(object):\n",
    "        def __init__(self):\n",
    "            self.length = 0\n",
    "            self.head = None\n",
    "        def printBackward(self):\n",
    "            print('[',end = '  ')\n",
    "            self.head.printBackward()\n",
    "            print(']',end = '  ')\n",
    "        def addFirst(self, value):\n",
    "            node = Node(value)\n",
    "            node.next = self.head\n",
    "            self.head = node\n",
    "            self.length +=1"
   ]
  },
  {
   "cell_type": "code",
   "execution_count": 104,
   "metadata": {},
   "outputs": [
    {
     "name": "stdout",
     "output_type": "stream",
     "text": [
      "[  1  2  3  4  ]  "
     ]
    }
   ],
   "source": [
    "linked_list = LinkedList()\n",
    "linked_list.addFirst(1)\n",
    "linked_list.addFirst(2)\n",
    "linked_list.addFirst(3)\n",
    "linked_list.addFirst(4)\n",
    "linked_list.printBackward()"
   ]
  },
  {
   "cell_type": "markdown",
   "metadata": {},
   "source": [
    "# Stacks"
   ]
  },
  {
   "cell_type": "code",
   "execution_count": 105,
   "metadata": {},
   "outputs": [],
   "source": [
    "class Stack(object):\n",
    "    def __init__(self):\n",
    "        self.items = []"
   ]
  },
  {
   "cell_type": "markdown",
   "metadata": {},
   "source": [
    "A **stack** is a collection, i.e. it is a data structure that contains multiple elements. A stack is sometimes called a “last in, first out” or LIFO data structure, because the last item added is the first to be removed."
   ]
  },
  {
   "cell_type": "markdown",
   "metadata": {},
   "source": [
    "![alt text](../figures/stacks.png)\n",
    "https://www.studytonight.com/data-structures/stack-data-structure"
   ]
  },
  {
   "cell_type": "markdown",
   "metadata": {},
   "source": [
    "### Implement a Stack class that uses a Python list and initilizes an empty items attribute."
   ]
  },
  {
   "cell_type": "markdown",
   "metadata": {},
   "source": [
    "### Define a method ``push`` of class ``Stack`` that adds an item to the stack. The method takes item as an argument ."
   ]
  },
  {
   "cell_type": "code",
   "execution_count": 106,
   "metadata": {},
   "outputs": [],
   "source": [
    "class Stack(object):\n",
    "    def __init__(self):\n",
    "        self.items = []\n",
    "    def push(self,item):\n",
    "        self.items.append(item)"
   ]
  },
  {
   "cell_type": "markdown",
   "metadata": {},
   "source": [
    "### Define a method ``pop`` of class ``Stack`` that removes an item from the stack and returns the popped item."
   ]
  },
  {
   "cell_type": "code",
   "execution_count": 107,
   "metadata": {},
   "outputs": [],
   "source": [
    "class Stack(object):\n",
    "    def __init__(self):\n",
    "        self.items = []\n",
    "    def push(self,item):\n",
    "        self.items.append(item)\n",
    "    def pop(self):\n",
    "        return self.items.pop()"
   ]
  },
  {
   "cell_type": "markdown",
   "metadata": {},
   "source": [
    "### Define a method ``isEmpty`` of class ``Stack`` that returns True if the stack is empty."
   ]
  },
  {
   "cell_type": "code",
   "execution_count": 108,
   "metadata": {},
   "outputs": [],
   "source": [
    "class Stack(object):\n",
    "    def __init__(self):\n",
    "        self.items = []\n",
    "    def push(self,item):\n",
    "        self.items.append(item)\n",
    "    def pop(self):\n",
    "        return self.items.pop()\n",
    "    def isEmpty(self):\n",
    "        return len(self.items)==0"
   ]
  },
  {
   "cell_type": "markdown",
   "metadata": {},
   "source": [
    "### Demonstrate a usage of Stack: add items 54, 45, \"+\" and remove all items until the stack is empty"
   ]
  },
  {
   "cell_type": "code",
   "execution_count": 109,
   "metadata": {},
   "outputs": [
    {
     "name": "stdout",
     "output_type": "stream",
     "text": [
      "+\n",
      "45\n",
      "54\n"
     ]
    }
   ],
   "source": [
    "s = Stack()\n",
    "s.push(54)\n",
    "s.push(45)\n",
    "s.push('+')\n",
    "\n",
    "while not s.isEmpty():\n",
    "    print(s.pop())\n",
    "    \n",
    "    "
   ]
  },
  {
   "cell_type": "markdown",
   "metadata": {},
   "source": [
    "## Using a stack to evaluate postfix\n",
    "\n",
    "In most programming languages, mathematical expressions are written with the operator between the two operands, as in ``1+2``. This format is called **infix**. An alternative used by some calculators is called **postfix**. In postfix, the operator follows the operands, as in ``1 2 +``.\n",
    "\n",
    "The reason postfix is sometimes useful is that there is a natural way to evaluate a postfix expression using a stack:"
   ]
  },
  {
   "cell_type": "markdown",
   "metadata": {},
   "source": [
    "* Starting at the beginning of the expression, get one term (operator or operand) at a time.\n",
    "    - If the term is an operand, push it on the stack.\n",
    "    - If the term is an operator, pop two operands off the stack, perform the operation on them, and push the result back on the stack.\n",
    "    \n",
    "* When you get to the end of the expression, there should be exactly one operand left on the stack. That operand is the result.\n"
   ]
  },
  {
   "cell_type": "raw",
   "metadata": {},
   "source": [
    "Example: 1 2 + 3 *\n",
    "\n",
    "========================\n",
    "val = 1\n",
    "stack = [1]\n",
    "\n",
    "========================\n",
    "val = 2\n",
    "stack = [1, 2]\n",
    "\n",
    "========================\n",
    "val = +\n",
    "item1 = stack.pop() # 2\n",
    "item2 = stack.pop() # 1\n",
    "stack = []\n",
    "res = item1 + item2 # 3\n",
    "stack = [3]\n",
    "\n",
    "========================\n",
    "val = 3\n",
    "stack = [3, 3]\n",
    "\n",
    "========================\n",
    "val = *\n",
    "item1 = stack.pop() # 3\n",
    "item2 = stack.pop() # 3\n",
    "stack = []\n",
    "res = item1 * item2 # 9\n",
    "stack = [9]\n",
    "\n",
    "========================\n",
    "result = 9"
   ]
  },
  {
   "cell_type": "markdown",
   "metadata": {},
   "source": [
    "### Write a function ``evalPostfix`` that takes a string with space as delimiter and evaluates the value of postfix. Assume we have only two operators: ``*`` and ``+``."
   ]
  },
  {
   "cell_type": "code",
   "execution_count": 117,
   "metadata": {},
   "outputs": [],
   "source": [
    "def evalPostfix(expr):\n",
    "    tokens = expr.split(' ')\n",
    "    stack = Stack()\n",
    "    for token in tokens:\n",
    "        if token !='+' and token !='*':\n",
    "            stack.push(int(token))\n",
    "        elif token == '+':\n",
    "            item1 = stack.pop()\n",
    "            item2 = stack.pop()\n",
    "            res = item1 +item2\n",
    "            stack.push(res)\n",
    "        elif token =='*':\n",
    "            item1 = stack.pop()\n",
    "            item2 = stack.pop()\n",
    "            res = item1 *item2\n",
    "            stack.push(res)\n",
    "    return stack.pop()"
   ]
  },
  {
   "cell_type": "markdown",
   "metadata": {},
   "source": [
    "### Evaluate the value for ``\"56 47 + 2 *\"``"
   ]
  },
  {
   "cell_type": "code",
   "execution_count": 120,
   "metadata": {},
   "outputs": [
    {
     "name": "stdout",
     "output_type": "stream",
     "text": [
      "206\n"
     ]
    }
   ],
   "source": [
    "expr = \"56 47 + 2 *\"\n",
    "res = evalPostfix(expr)\n",
    "print(res)"
   ]
  },
  {
   "cell_type": "code",
   "execution_count": 119,
   "metadata": {},
   "outputs": [
    {
     "data": {
      "text/plain": [
       "206"
      ]
     },
     "execution_count": 119,
     "metadata": {},
     "output_type": "execute_result"
    }
   ],
   "source": [
    "(56 +47)*2"
   ]
  },
  {
   "cell_type": "markdown",
   "metadata": {},
   "source": [
    "# Queues"
   ]
  },
  {
   "cell_type": "markdown",
   "metadata": {},
   "source": [
    "In real life, a **queue** is a line of customers waiting for service of some kind. In most cases, the first customer in line is the next customer to be served. There are exceptions, though. At airports, customers whose flights are leaving soon are sometimes taken from the middle of the queue. At supermarkets, a polite customer might let someone with only a few items go first."
   ]
  },
  {
   "cell_type": "markdown",
   "metadata": {},
   "source": [
    "The rule that determines who goes next is called the **queueing policy**. The simplest queueing policy is called **FIFO**, for “first-in-first-out.” The most general queueing policy is **priority queueing**, in which each customer is assigned a priority and the customer with the highest priority goes first, regardless of the order of arrival. "
   ]
  },
  {
   "cell_type": "markdown",
   "metadata": {},
   "source": [
    "![alt text](../figures/queue.png)\n",
    "https://www.quora.com/What-is-a-queue-in-data-structure"
   ]
  },
  {
   "cell_type": "markdown",
   "metadata": {},
   "source": [
    "### Implement a class ``Queue`` that has attirbutes length and head where the initial values are ``0`` and ``None``, respectively."
   ]
  },
  {
   "cell_type": "code",
   "execution_count": null,
   "metadata": {},
   "outputs": [],
   "source": [
    "class Queue(object):\n",
    "    def __init__(self):\n",
    "        self.length = 0\n",
    "        self.head = None"
   ]
  },
  {
   "cell_type": "markdown",
   "metadata": {},
   "source": [
    "### Add a method ``isEmpty`` to the class ``Queue`` that returns ``True`` if the queue is empty."
   ]
  },
  {
   "cell_type": "code",
   "execution_count": 122,
   "metadata": {},
   "outputs": [],
   "source": [
    "class Queue(object):\n",
    "    def __init__(self):\n",
    "        self.length = 0\n",
    "        self.head = None\n",
    "    def isEmpty(self):\n",
    "        return self.length == 0\n",
    "    "
   ]
  },
  {
   "cell_type": "markdown",
   "metadata": {},
   "source": [
    "### Add a method ``insert`` to the class ``Queue`` that adds a new item to the queue. The method takes ``data`` as an argument."
   ]
  },
  {
   "cell_type": "code",
   "execution_count": 130,
   "metadata": {},
   "outputs": [],
   "source": [
    "class Queue(object):\n",
    "    def __init__(self):\n",
    "        self.length = 0\n",
    "        self.head = None\n",
    "    def isEmpty(self):\n",
    "        return self.length == 0\n",
    "    def insert(self,data):\n",
    "        node = Node(data)\n",
    "        if not self.head:\n",
    "            self.head = node\n",
    "        else:\n",
    "            tail = self.head\n",
    "            while tail.next:\n",
    "                tail = tail.next\n",
    "            tail.next = node\n",
    "        self.length +=1"
   ]
  },
  {
   "cell_type": "markdown",
   "metadata": {},
   "source": [
    "### Add a method ``remove`` to the class ``Queue`` that removes an item from the queue and returns the value of that item."
   ]
  },
  {
   "cell_type": "code",
   "execution_count": 144,
   "metadata": {},
   "outputs": [],
   "source": [
    "class Queue(object):\n",
    "    def __init__(self):\n",
    "        self.length = 0\n",
    "        self.head = None\n",
    "    def isEmpty(self):\n",
    "        return self.length == 0\n",
    "    def insert(self,data):\n",
    "        node = Node(data)\n",
    "        if not self.head:\n",
    "            self.head = node\n",
    "        else:\n",
    "            tail = self.head\n",
    "            while tail.next:\n",
    "                tail = tail.next\n",
    "            tail.next = node\n",
    "        self.length +=1\n",
    "    def remove(self):\n",
    "#         if self.isEmpty(): return\n",
    "#         node = self.head\n",
    "        data = self.head.data\n",
    "        self.head = self.head.next\n",
    "#         node.next = None\n",
    "        self.length-=1\n",
    "        return data"
   ]
  },
  {
   "cell_type": "code",
   "execution_count": 145,
   "metadata": {},
   "outputs": [
    {
     "name": "stdout",
     "output_type": "stream",
     "text": [
      "1\n",
      "2\n",
      "3\n",
      "4\n"
     ]
    }
   ],
   "source": [
    "q = Queue()\n",
    "\n",
    "q.insert(1)\n",
    "q.insert(2)\n",
    "q.insert(3)\n",
    "q.insert(4)\n",
    "\n",
    "while q.length != 0:\n",
    "    print(q.remove())"
   ]
  },
  {
   "cell_type": "markdown",
   "metadata": {},
   "source": [
    "**Performance Characteristics**: First look at ``remove``. There are no loops or function calls here, suggesting that the runtime of this method is the same every time. Such a method is called a **constant time** operation. In reality, the method might be slightly faster when the list is empty since it skips the body of the conditional, but that difference is not significant. The performance of **insert** is very different. In the general case, we have to traverse the list to find the last element. This traversal takes time proportional to the length of the list. Since the runtime is a linear function of the length, this method is called **linear time**. Compared to constant time, that’s very bad."
   ]
  },
  {
   "cell_type": "markdown",
   "metadata": {},
   "source": [
    "### Implement a class ``ImprovedQueue`` that can perform all operations in constant time."
   ]
  },
  {
   "cell_type": "markdown",
   "metadata": {},
   "source": [
    "### Create a class ``PriorityQueue`` that has an attribute a Python list that contains the items in the queue."
   ]
  },
  {
   "cell_type": "markdown",
   "metadata": {},
   "source": [
    "### Add ``isEmpty`` method to ``PriorityQueue``."
   ]
  },
  {
   "cell_type": "markdown",
   "metadata": {},
   "source": [
    "### Add ``insert`` method to ``PriorityQueue``."
   ]
  },
  {
   "cell_type": "markdown",
   "metadata": {},
   "source": [
    "### Add ``remove`` method to ``PriorityQueue``."
   ]
  },
  {
   "cell_type": "markdown",
   "metadata": {},
   "source": [
    "### Demonstrate how ``PriorityQueue`` works"
   ]
  },
  {
   "cell_type": "markdown",
   "metadata": {},
   "source": [
    "### Implement a class ``Golfer`` that takes ``name`` and ``score`` as arguments and creates attributes for them."
   ]
  },
  {
   "cell_type": "markdown",
   "metadata": {},
   "source": [
    "### Overwrite ``print`` function for ``Golfer`` object so that it prints \"Tiger Woods   : 61\"."
   ]
  },
  {
   "cell_type": "markdown",
   "metadata": {},
   "source": [
    "### Overwrite comparison functions for Golfer object so that smaller score is more."
   ]
  },
  {
   "cell_type": "markdown",
   "metadata": {},
   "source": [
    "### Test ``PriorityQueue`` with ``Golfer`` class."
   ]
  }
 ],
 "metadata": {
  "kernelspec": {
   "display_name": "Python 3",
   "language": "python",
   "name": "python3"
  },
  "language_info": {
   "codemirror_mode": {
    "name": "ipython",
    "version": 3
   },
   "file_extension": ".py",
   "mimetype": "text/x-python",
   "name": "python",
   "nbconvert_exporter": "python",
   "pygments_lexer": "ipython3",
   "version": "3.7.1"
  }
 },
 "nbformat": 4,
 "nbformat_minor": 2
}
